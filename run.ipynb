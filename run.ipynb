{
  "nbformat": 4,
  "nbformat_minor": 0,
  "metadata": {
    "colab": {
      "name": "Untitled5.ipynb",
      "provenance": [],
      "collapsed_sections": []
    },
    "kernelspec": {
      "name": "python3",
      "display_name": "Python 3"
    },
    "language_info": {
      "name": "python"
    },
    "accelerator": "GPU"
  },
  "cells": [
    {
      "cell_type": "code",
      "execution_count": 1,
      "metadata": {
        "colab": {
          "base_uri": "https://localhost:8080/"
        },
        "id": "s1Q664RkhQlw",
        "outputId": "384bec68-d3e3-48f8-824c-c4af520cfde9"
      },
      "outputs": [
        {
          "output_type": "stream",
          "name": "stdout",
          "text": [
            "/content/drive/MyDrive/own_bert\n"
          ]
        }
      ],
      "source": [
        "%cd \"/content/drive/MyDrive/own_bert\""
      ]
    },
    {
      "cell_type": "code",
      "source": [
        "%run own_bert_layer.py"
      ],
      "metadata": {
        "colab": {
          "base_uri": "https://localhost:8080/"
        },
        "id": "zf3YZLrmjWoj",
        "outputId": "5e317e13-0a38-46bc-de0d-1a7671af48c1"
      },
      "execution_count": 2,
      "outputs": [
        {
          "metadata": {
            "tags": null
          },
          "name": "stdout",
          "output_type": "stream",
          "text": [
            "[219918 290542 290541 ...     38     52      2]\n",
            "(1, 439838)\n",
            "(1, 439838)\n"
          ]
        },
        {
          "metadata": {
            "tags": null
          },
          "name": "stderr",
          "output_type": "stream",
          "text": [
            "/content/drive/MyDrive/own_bert/own_bert_layer.py:62: VisibleDeprecationWarning: Creating an ndarray from ragged nested sequences (which is a list-or-tuple of lists-or-tuples-or ndarrays with different lengths or shapes) is deprecated. If you meant to do this, you must specify 'dtype=object' when creating the ndarray.\n",
            "  X = np.array([sentence_ids(sentence, vocabs_ids) for sentence in X])\n"
          ]
        },
        {
          "output_type": "stream",
          "name": "stdout",
          "text": [
            "Epoch 1/30\n",
            "1125/1125 [==============================] - 357s 297ms/step - loss: 81.7078 - acc: 0.5019 - val_loss: 40.2584 - val_acc: 0.4805\n",
            "Epoch 2/30\n",
            "1125/1125 [==============================] - 327s 291ms/step - loss: 27.1135 - acc: 0.5046 - val_loss: 24.8871 - val_acc: 0.4995\n",
            "Epoch 3/30\n",
            "1125/1125 [==============================] - 327s 291ms/step - loss: 26.5401 - acc: 0.5051 - val_loss: 14.8811 - val_acc: 0.4995\n",
            "Epoch 4/30\n",
            "1125/1125 [==============================] - 330s 293ms/step - loss: 20.9280 - acc: 0.5154 - val_loss: 10.6451 - val_acc: 0.4995\n",
            "Epoch 5/30\n",
            "1125/1125 [==============================] - 326s 290ms/step - loss: 6.9460 - acc: 0.5170 - val_loss: 7.0560 - val_acc: 0.5065\n",
            "Epoch 6/30\n",
            "1125/1125 [==============================] - 329s 293ms/step - loss: 6.1180 - acc: 0.5179 - val_loss: 7.4295 - val_acc: 0.4945\n",
            "Epoch 7/30\n",
            "1125/1125 [==============================] - 329s 293ms/step - loss: 10.2400 - acc: 0.5148 - val_loss: 2.9774 - val_acc: 0.4995\n",
            "Epoch 8/30\n",
            "1125/1125 [==============================] - 330s 293ms/step - loss: 5.4848 - acc: 0.5202 - val_loss: 3.4289 - val_acc: 0.4995\n",
            "Epoch 9/30\n",
            "1125/1125 [==============================] - 326s 290ms/step - loss: 2.8914 - acc: 0.5131 - val_loss: 2.7323 - val_acc: 0.4995\n",
            "Epoch 10/30\n",
            "1125/1125 [==============================] - 330s 293ms/step - loss: 2.7376 - acc: 0.5094 - val_loss: 1.8225 - val_acc: 0.5117\n",
            "Epoch 11/30\n",
            "1125/1125 [==============================] - 330s 293ms/step - loss: 1.6775 - acc: 0.5105 - val_loss: 1.3911 - val_acc: 0.4995\n",
            "Epoch 12/30\n",
            "1125/1125 [==============================] - 330s 293ms/step - loss: 1.2242 - acc: 0.7915 - val_loss: 9.7986 - val_acc: 0.4955\n",
            "Epoch 13/30\n",
            "1125/1125 [==============================] - 326s 290ms/step - loss: 1.0536 - acc: 0.9425 - val_loss: 1.1427 - val_acc: 0.7642\n",
            "Epoch 14/30\n",
            "1125/1125 [==============================] - 329s 293ms/step - loss: 0.7069 - acc: 0.9679 - val_loss: 56.2942 - val_acc: 0.5445\n",
            "Epoch 15/30\n",
            "1125/1125 [==============================] - 326s 290ms/step - loss: 0.8481 - acc: 0.9741 - val_loss: 0.7976 - val_acc: 0.8375\n",
            "Epoch 16/30\n",
            "1125/1125 [==============================] - 327s 290ms/step - loss: 0.3255 - acc: 0.9821 - val_loss: 1.3519 - val_acc: 0.7722\n",
            "Epoch 17/30\n",
            "1125/1125 [==============================] - 327s 291ms/step - loss: 0.2903 - acc: 0.9860 - val_loss: 1.1724 - val_acc: 0.7542\n",
            "Epoch 18/30\n",
            "1125/1125 [==============================] - 330s 294ms/step - loss: 0.2343 - acc: 0.9891 - val_loss: 0.6997 - val_acc: 0.8413\n",
            "Epoch 19/30\n",
            "1125/1125 [==============================] - 331s 294ms/step - loss: 0.1879 - acc: 0.9954 - val_loss: 0.7361 - val_acc: 0.8303\n",
            "Epoch 20/30\n",
            "1125/1125 [==============================] - 327s 291ms/step - loss: 0.1659 - acc: 0.9971 - val_loss: 0.9017 - val_acc: 0.8257\n",
            "Epoch 21/30\n",
            "1125/1125 [==============================] - 331s 294ms/step - loss: 0.5430 - acc: 0.9737 - val_loss: 0.6369 - val_acc: 0.8450\n",
            "Epoch 22/30\n",
            "1125/1125 [==============================] - 328s 292ms/step - loss: 0.1652 - acc: 0.9966 - val_loss: 0.6625 - val_acc: 0.8487\n",
            "Epoch 23/30\n",
            "1125/1125 [==============================] - 328s 292ms/step - loss: 0.9358 - acc: 0.9707 - val_loss: 2.5629 - val_acc: 0.7095\n",
            "Epoch 24/30\n",
            "1125/1125 [==============================] - 328s 292ms/step - loss: 0.5145 - acc: 0.9857 - val_loss: 0.7832 - val_acc: 0.8420\n",
            "Epoch 25/30\n",
            "1125/1125 [==============================] - 331s 294ms/step - loss: 0.1796 - acc: 0.9966 - val_loss: 0.8395 - val_acc: 0.8422\n",
            "Epoch 26/30\n",
            "1125/1125 [==============================] - 330s 294ms/step - loss: 0.1684 - acc: 0.9974 - val_loss: 0.7261 - val_acc: 0.8388\n",
            "Epoch 27/30\n",
            "1125/1125 [==============================] - 331s 294ms/step - loss: 0.1487 - acc: 0.9987 - val_loss: 0.9498 - val_acc: 0.8455\n",
            "Epoch 28/30\n",
            "1125/1125 [==============================] - 327s 291ms/step - loss: 0.1591 - acc: 0.9981 - val_loss: 1.8053 - val_acc: 0.7458\n",
            "Epoch 29/30\n",
            "1125/1125 [==============================] - 327s 290ms/step - loss: 0.4841 - acc: 0.9893 - val_loss: 5.8126 - val_acc: 0.7358\n",
            "Epoch 30/30\n",
            "1125/1125 [==============================] - 329s 293ms/step - loss: 0.4098 - acc: 0.9953 - val_loss: 1.0446 - val_acc: 0.8328\n",
            "313/313 [==============================] - 26s 67ms/step - loss: 1.0172 - acc: 0.8360\n"
          ]
        }
      ]
    }
  ]
}